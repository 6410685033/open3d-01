{
 "cells": [
  {
   "cell_type": "markdown",
   "id": "0cf80976-e810-4f93-bd1d-544590aa0ac5",
   "metadata": {},
   "source": [
    "# Clip 4"
   ]
  },
  {
   "cell_type": "markdown",
   "id": "a34c1f55-7b86-45d9-8079-3a2f0e6b6e28",
   "metadata": {},
   "source": [
    "## Cropping"
   ]
  },
  {
   "cell_type": "code",
   "execution_count": 4,
   "id": "1be943be-d5b7-490d-a576-c642f29c9e08",
   "metadata": {},
   "outputs": [],
   "source": [
    "import open3d as o3d\n",
    "import numpy as np\n",
    "import json"
   ]
  },
  {
   "cell_type": "code",
   "execution_count": 5,
   "id": "d40b2e85-d953-421e-88ab-5dfdd3b0077a",
   "metadata": {},
   "outputs": [
    {
     "name": "stdout",
     "output_type": "stream",
     "text": [
      "PointCloud with 14640197 points.\n",
      "\n",
      "min_bound = [-100, -100, -100]\n",
      "max_bound = [100, 100, 100]\n"
     ]
    }
   ],
   "source": [
    "# Initial\n",
    "kota = \"../data/kota_circuit2.ply\"\n",
    "crop_json = \"crop.json\"\n",
    "pcd = o3d.io.read_point_cloud(kota)\n",
    "print(pcd)\n",
    "print()\n",
    "\n",
    "# Load JSON configuration\n",
    "with open('crop.json', 'r') as f:\n",
    "    config = json.load(f)\n",
    "\n",
    "min_bound = config['min_bound']\n",
    "max_bound = config['max_bound']\n",
    "\n",
    "print(f\"min_bound = {min_bound}\")\n",
    "print(f\"max_bound = {max_bound}\")"
   ]
  },
  {
   "cell_type": "code",
   "execution_count": 6,
   "id": "a8e6dd1f-dafc-4a34-9f05-de2f7cb6459c",
   "metadata": {},
   "outputs": [
    {
     "name": "stdout",
     "output_type": "stream",
     "text": [
      "PointCloud with 3240139 points.\n"
     ]
    }
   ],
   "source": [
    "# Define the axis-aligned bounding box with the loaded bounds\n",
    "aabb = o3d.geometry.AxisAlignedBoundingBox(min_bound=min_bound, max_bound=max_bound)\n",
    "\n",
    "# Crop the point cloud\n",
    "cropped_pcd = pcd.crop(aabb)\n",
    "\n",
    "print(cropped_pcd)"
   ]
  },
  {
   "cell_type": "markdown",
   "id": "f6020922-c3b4-4119-a720-1b850c0d7d8c",
   "metadata": {},
   "source": [
    "## Get vertex normal"
   ]
  },
  {
   "cell_type": "code",
   "execution_count": 7,
   "id": "4cb7d2a0-c00c-400f-a961-0ee04c338a5d",
   "metadata": {},
   "outputs": [],
   "source": [
    "# Get vertex normal\n",
    "cropped_pcd.estimate_normals(\n",
    "    search_param=o3d.geometry.KDTreeSearchParamHybrid(radius=0.1, max_nn=30))"
   ]
  },
  {
   "cell_type": "code",
   "execution_count": 8,
   "id": "aa9d59d7-b78a-49b1-ae6f-2267d61aa7c0",
   "metadata": {},
   "outputs": [
    {
     "data": {
      "text/plain": [
       "True"
      ]
     },
     "execution_count": 8,
     "metadata": {},
     "output_type": "execute_result"
    }
   ],
   "source": [
    "o3d.io.write_point_cloud(\"cropped_with_nm.ply\", cropped_pcd, write_ascii=True) # save new ascii ply\n",
    "# o3d.io.write_point_cloud(\"cropped_with_nm.ply\", cropped_pcd) # save new ply"
   ]
  },
  {
   "cell_type": "code",
   "execution_count": 41,
   "id": "502558ff-43d4-466f-bfb2-128cb12a03ad",
   "metadata": {},
   "outputs": [
    {
     "name": "stdout",
     "output_type": "stream",
     "text": [
      "\u001b[1;33m[Open3D WARNING] GLFW Error: Cocoa: Failed to find service port for display\u001b[0;m\n"
     ]
    },
    {
     "name": "stderr",
     "output_type": "stream",
     "text": [
      "2024-03-05 15:13:14.613 Python[33206:1439168] TSM AdjustCapsLockLEDForKeyTransitionHandling - _ISSetPhysicalKeyboardCapsLockLED Inhibit\n"
     ]
    },
    {
     "ename": "KeyboardInterrupt",
     "evalue": "",
     "output_type": "error",
     "traceback": [
      "\u001b[0;31m---------------------------------------------------------------------------\u001b[0m",
      "\u001b[0;31mKeyboardInterrupt\u001b[0m                         Traceback (most recent call last)",
      "Cell \u001b[0;32mIn[41], line 2\u001b[0m\n\u001b[1;32m      1\u001b[0m \u001b[38;5;66;03m# Visualize cropped\u001b[39;00m\n\u001b[0;32m----> 2\u001b[0m \u001b[43mo3d\u001b[49m\u001b[38;5;241;43m.\u001b[39;49m\u001b[43mvisualization\u001b[49m\u001b[38;5;241;43m.\u001b[39;49m\u001b[43mdraw_geometries\u001b[49m\u001b[43m(\u001b[49m\u001b[43m[\u001b[49m\u001b[43mcropped_pcd\u001b[49m\u001b[43m]\u001b[49m\u001b[43m)\u001b[49m\n",
      "\u001b[0;31mKeyboardInterrupt\u001b[0m: "
     ]
    }
   ],
   "source": [
    "# Visualize cropped\n",
    "o3d.visualization.draw_geometries([cropped_pcd])"
   ]
  },
  {
   "cell_type": "markdown",
   "id": "57d02df5-903c-40f2-867d-d640c2121068",
   "metadata": {},
   "source": [
    "## X Y X Filter"
   ]
  },
  {
   "cell_type": "code",
   "execution_count": 9,
   "id": "b2b1b0e7-2cba-4a68-9b01-66deeae45b0d",
   "metadata": {},
   "outputs": [
    {
     "name": "stdout",
     "output_type": "stream",
     "text": [
      "X range: -99.99984741210938 to 99.99995422363281\n",
      "Y range: -99.99994659423828 to 99.9999771118164\n",
      "Z range: -97.96589660644531 to -45.7867546081543\n"
     ]
    }
   ],
   "source": [
    "# Prepare data for filter\n",
    "\n",
    "# Convert the point cloud to a NumPy array\n",
    "points = np.asarray(cropped_pcd.points)\n",
    "colors = np.asarray(cropped_pcd.colors) \n",
    "\n",
    "# Print the min and max of each coordinate\n",
    "print(f\"X range: {points[:, 0].min()} to {points[:, 0].max()}\")\n",
    "print(f\"Y range: {points[:, 1].min()} to {points[:, 1].max()}\")\n",
    "print(f\"Z range: {points[:, 2].min()} to {points[:, 2].max()}\")"
   ]
  },
  {
   "cell_type": "code",
   "execution_count": 10,
   "id": "25412566-306f-4eae-acfd-d0c157d0cfee",
   "metadata": {},
   "outputs": [
    {
     "name": "stdout",
     "output_type": "stream",
     "text": [
      "Number of points after filtering: 595758\n"
     ]
    }
   ],
   "source": [
    "# filter x y z\n",
    "# z >= 0.9, -0.2 < x < +0.2, -0.2 < y < +0.2\n",
    "x_min, x_max = -45, 45\n",
    "y_min, y_max = -45, 45\n",
    "z_min, z_max = -70, -65\n",
    "\n",
    "filtered_indices = (z_min < points[:, 0]) & (points[:, 2] < z_max) & (x_min < points[:, 0]) & (points[:, 0] < x_max) & (y_min < points[:, 1]) & (points[:, 1] < y_max)\n",
    "filtered_points = points[filtered_indices]\n",
    "filtered_colors = colors[filtered_indices]  # Apply the same indices to the colors\n",
    "\n",
    "filtered_pcd = o3d.geometry.PointCloud()\n",
    "filtered_pcd.points = o3d.utility.Vector3dVector(filtered_points)\n",
    "filtered_pcd.colors = o3d.utility.Vector3dVector(filtered_colors)  # Set the colors for the filtered points\n",
    "\n",
    "# Check the number of points in the filtered point cloud\n",
    "print(f\"Number of points after filtering: {len(filtered_points)}\")"
   ]
  },
  {
   "cell_type": "code",
   "execution_count": 13,
   "id": "b4501763-5041-43db-a035-11d8ccf229b5",
   "metadata": {},
   "outputs": [],
   "source": [
    "# Get vertex normal\n",
    "filtered_pcd.estimate_normals(\n",
    "    search_param=o3d.geometry.KDTreeSearchParamHybrid(radius=0.1, max_nn=30))"
   ]
  },
  {
   "cell_type": "code",
   "execution_count": 14,
   "id": "91ddc9d3-3655-428c-a859-0d4172afe6fb",
   "metadata": {},
   "outputs": [
    {
     "data": {
      "text/plain": [
       "True"
      ]
     },
     "execution_count": 14,
     "metadata": {},
     "output_type": "execute_result"
    }
   ],
   "source": [
    "# Save the filtered point cloud to a new file\n",
    "o3d.io.write_point_cloud(\"filtered_point_cloud.ply\", filtered_pcd, write_ascii=True)"
   ]
  },
  {
   "cell_type": "code",
   "execution_count": 15,
   "id": "62ba285d-92d6-4156-97a0-faa4b552d58a",
   "metadata": {},
   "outputs": [
    {
     "name": "stdout",
     "output_type": "stream",
     "text": [
      "\u001b[1;33m[Open3D WARNING] GLFW Error: Cocoa: Failed to find service port for display\u001b[0;m\n",
      "\u001b[1;33m[Open3D WARNING] GLFW Error: Cocoa: Failed to find service port for display\u001b[0;m\n"
     ]
    },
    {
     "name": "stderr",
     "output_type": "stream",
     "text": [
      "2024-03-06 00:16:23.533 Python[39979:1684948] TSM AdjustCapsLockLEDForKeyTransitionHandling - _ISSetPhysicalKeyboardCapsLockLED Inhibit\n"
     ]
    },
    {
     "ename": "KeyboardInterrupt",
     "evalue": "",
     "output_type": "error",
     "traceback": [
      "\u001b[0;31m---------------------------------------------------------------------------\u001b[0m",
      "\u001b[0;31mKeyboardInterrupt\u001b[0m                         Traceback (most recent call last)",
      "Cell \u001b[0;32mIn[15], line 2\u001b[0m\n\u001b[1;32m      1\u001b[0m \u001b[38;5;66;03m# Visualize the filtered point cloud\u001b[39;00m\n\u001b[0;32m----> 2\u001b[0m \u001b[43mo3d\u001b[49m\u001b[38;5;241;43m.\u001b[39;49m\u001b[43mvisualization\u001b[49m\u001b[38;5;241;43m.\u001b[39;49m\u001b[43mdraw_geometries\u001b[49m\u001b[43m(\u001b[49m\u001b[43m[\u001b[49m\u001b[43mfiltered_pcd\u001b[49m\u001b[43m]\u001b[49m\u001b[43m)\u001b[49m\n",
      "\u001b[0;31mKeyboardInterrupt\u001b[0m: "
     ]
    }
   ],
   "source": [
    "# Visualize the filtered point cloud\n",
    "o3d.visualization.draw_geometries([filtered_pcd])"
   ]
  }
 ],
 "metadata": {
  "kernelspec": {
   "display_name": "Python (venv)",
   "language": "python",
   "name": "venv"
  },
  "language_info": {
   "codemirror_mode": {
    "name": "ipython",
    "version": 3
   },
   "file_extension": ".py",
   "mimetype": "text/x-python",
   "name": "python",
   "nbconvert_exporter": "python",
   "pygments_lexer": "ipython3",
   "version": "3.11.7"
  }
 },
 "nbformat": 4,
 "nbformat_minor": 5
}
