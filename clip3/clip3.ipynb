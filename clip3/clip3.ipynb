{
 "cells": [
  {
   "cell_type": "code",
   "execution_count": 3,
   "id": "738a8765-97d8-4d6f-86e9-a0273d0538fd",
   "metadata": {},
   "outputs": [],
   "source": [
    "import open3d as o3d\n",
    "import numpy as np\n",
    "import json"
   ]
  },
  {
   "cell_type": "code",
   "execution_count": 4,
   "id": "aee1f2f2-9827-4d2a-93bd-1f2e00f1eada",
   "metadata": {},
   "outputs": [],
   "source": [
    "road = \"../data/iphone7.ply\"\n",
    "crop_json = \"crop.json\""
   ]
  },
  {
   "cell_type": "code",
   "execution_count": 5,
   "id": "908471bb-9e66-4213-8461-7f81596c4a84",
   "metadata": {},
   "outputs": [],
   "source": [
    "# Load JSON configuration\n",
    "with open('crop.json', 'r') as f:\n",
    "    config = json.load(f)\n",
    "\n",
    "min_bound = config['min_bound']\n",
    "max_bound = config['max_bound']"
   ]
  },
  {
   "cell_type": "code",
   "execution_count": 6,
   "id": "bce91414-e868-4366-9736-22e6f5520a56",
   "metadata": {},
   "outputs": [],
   "source": [
    "# Load your point cloud\n",
    "pcd = o3d.io.read_point_cloud(road)"
   ]
  },
  {
   "cell_type": "code",
   "execution_count": 7,
   "id": "265f74ff-e793-4a6f-af8b-d568b55dd88c",
   "metadata": {},
   "outputs": [],
   "source": [
    "# Define the axis-aligned bounding box with the loaded bounds\n",
    "aabb = o3d.geometry.AxisAlignedBoundingBox(min_bound=min_bound, max_bound=max_bound)"
   ]
  },
  {
   "cell_type": "code",
   "execution_count": 8,
   "id": "a717c647-66db-47f1-adf5-c6adb3eea38d",
   "metadata": {},
   "outputs": [],
   "source": [
    "# Crop the point cloud\n",
    "cropped_pcd = pcd.crop(aabb)"
   ]
  },
  {
   "cell_type": "code",
   "execution_count": 9,
   "id": "72140064-08c2-44f8-9094-c6d0b8ebd2c6",
   "metadata": {},
   "outputs": [
    {
     "data": {
      "text/plain": [
       "True"
      ]
     },
     "execution_count": 9,
     "metadata": {},
     "output_type": "execute_result"
    }
   ],
   "source": [
    "# Save the cropped point cloud\n",
    "o3d.io.write_point_cloud(\"curcuit.pcd\", cropped_pcd)"
   ]
  },
  {
   "cell_type": "code",
   "execution_count": null,
   "id": "b3444519-8b75-4ab2-b00b-d1b7f0688794",
   "metadata": {},
   "outputs": [],
   "source": [
    "o3d.visualization.draw_geometries([cropped_pcd], \"Cropped Point Cloud\")"
   ]
  }
 ],
 "metadata": {
  "kernelspec": {
   "display_name": "Python (venv)",
   "language": "python",
   "name": "venv"
  },
  "language_info": {
   "codemirror_mode": {
    "name": "ipython",
    "version": 3
   },
   "file_extension": ".py",
   "mimetype": "text/x-python",
   "name": "python",
   "nbconvert_exporter": "python",
   "pygments_lexer": "ipython3",
   "version": "3.11.7"
  }
 },
 "nbformat": 4,
 "nbformat_minor": 5
}
